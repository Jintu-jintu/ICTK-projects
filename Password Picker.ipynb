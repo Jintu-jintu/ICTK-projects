{
 "cells": [
  {
   "cell_type": "markdown",
   "id": "d92d27e6",
   "metadata": {},
   "source": [
    "Password Creator"
   ]
  },
  {
   "cell_type": "code",
   "execution_count": 4,
   "id": "8a58b783",
   "metadata": {},
   "outputs": [
    {
     "name": "stdout",
     "output_type": "stream",
     "text": [
      "enter an adjective:long\n",
      "enter a noun:hat\n",
      "enter a number between 0 and 100:54\n",
      "enter a punctuation character:!\n",
      "password is: longhat54!\n"
     ]
    }
   ],
   "source": [
    "adj=str(input('enter an adjective:'))\n",
    "noun=str(input('enter a noun:'))\n",
    "number=int(input('enter a number between 0 and 100:'))\n",
    "pun=str(input('enter a punctuation character:'))\n",
    "pw=adj+noun+str(number)+pun\n",
    "print('password is:',pw)"
   ]
  },
  {
   "cell_type": "code",
   "execution_count": null,
   "id": "386f72ac",
   "metadata": {},
   "outputs": [],
   "source": []
  }
 ],
 "metadata": {
  "kernelspec": {
   "display_name": "Python 3",
   "language": "python",
   "name": "python3"
  },
  "language_info": {
   "codemirror_mode": {
    "name": "ipython",
    "version": 3
   },
   "file_extension": ".py",
   "mimetype": "text/x-python",
   "name": "python",
   "nbconvert_exporter": "python",
   "pygments_lexer": "ipython3",
   "version": "3.8.8"
  }
 },
 "nbformat": 4,
 "nbformat_minor": 5
}
